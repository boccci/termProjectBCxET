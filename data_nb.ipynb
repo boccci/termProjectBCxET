{
 "cells": [
  {
   "cell_type": "code",
   "execution_count": 1,
   "id": "340ac8ab",
   "metadata": {},
   "outputs": [
    {
     "name": "stderr",
     "output_type": "stream",
     "text": [
      "/Users/emilytoney/opt/anaconda3/lib/python3.7/site-packages/ipykernel_launcher.py:7: ParserWarning: Falling back to the 'python' engine because the 'c' engine does not support regex separators (separators > 1 char and different from '\\s+' are interpreted as regex); you can avoid this warning by specifying engine='python'.\n",
      "  import sys\n"
     ]
    }
   ],
   "source": [
    "# import data.dat\n",
    "\n",
    "import numpy as np \n",
    "import pandas as pd\n",
    "\n",
    "# pandas data frame\n",
    "data = pd.read_csv('data_dup.dat', sep='/=', header = None, skipinitialspace=False, names =['value','name'])\n",
    "data\n",
    "\n",
    "# make a duplicate of data to edit and protect original document\n",
    "\n",
    "df = data.copy()"
   ]
  },
  {
   "cell_type": "code",
   "execution_count": 2,
   "id": "7f09303b",
   "metadata": {},
   "outputs": [
    {
     "data": {
      "text/plain": [
       "array([ 5.00000000e-01, -8.66025404e-01,  0.00000000e+00,  4.96731765e-01,\n",
       "        2.86788218e-01,  8.19152044e-01,  4.30820450e+04,  2.02000000e+07,\n",
       "        9.71238898e+00])"
      ]
     },
     "execution_count": 2,
     "metadata": {},
     "output_type": "execute_result"
    }
   ],
   "source": [
    "# Split value column into arrays by receiver and satellite information \n",
    "\n",
    "# split df (nums_data = numerical data ONLY)\n",
    "nums_data = df['value']\n",
    "pd.to_numeric(nums_data).astype('float64')\n",
    "\n",
    "# array values: pi, c (speed of light), R (radius of earth), s (length of sidereal day)\n",
    "rec = nums_data[0:4].to_numpy()\n",
    "rec\n",
    "\n",
    "# sat_i: u1, u2, u3, v1, v2, v3, periodicity, altitude, phase\n",
    "\n",
    "sat_0 = nums_data[4:13].to_numpy()\n",
    "sat_1 = nums_data[13:22].to_numpy()\n",
    "sat_2 = nums_data[22:31].to_numpy()\n",
    "sat_3 = nums_data[31:40].to_numpy()\n",
    "sat_4 = nums_data[40:49].to_numpy()\n",
    "sat_5 = nums_data[49:58].to_numpy()\n",
    "sat_6 = nums_data[58:67].to_numpy()\n",
    "sat_7 = nums_data[67:76].to_numpy()\n",
    "sat_8 = nums_data[76:85].to_numpy()\n",
    "sat_9 = nums_data[85:94].to_numpy()\n",
    "sat_10 = nums_data[94:103].to_numpy()\n",
    "sat_11 = nums_data[103:112].to_numpy()\n",
    "sat_12 = nums_data[112:121].to_numpy()\n",
    "sat_13 = nums_data[121:130].to_numpy()\n",
    "sat_14 = nums_data[130:139].to_numpy()\n",
    "sat_15 = nums_data[139:148].to_numpy()\n",
    "sat_16 = nums_data[148:157].to_numpy()\n",
    "sat_17 = nums_data[157:166].to_numpy()\n",
    "sat_18 = nums_data[166:175].to_numpy()\n",
    "sat_19 = nums_data[175:184].to_numpy()\n",
    "sat_20 = nums_data[184:193].to_numpy()\n",
    "sat_21 = nums_data[193:202].to_numpy()\n",
    "sat_22 = nums_data[202:211].to_numpy()\n",
    "sat_23 = nums_data[211:220].to_numpy()\n",
    "\n",
    "sat_23"
   ]
  },
  {
   "cell_type": "code",
   "execution_count": null,
   "id": "abd48490",
   "metadata": {},
   "outputs": [],
   "source": []
  }
 ],
 "metadata": {
  "kernelspec": {
   "display_name": "Python 3 (ipykernel)",
   "language": "python",
   "name": "python3"
  },
  "language_info": {
   "codemirror_mode": {
    "name": "ipython",
    "version": 3
   },
   "file_extension": ".py",
   "mimetype": "text/x-python",
   "name": "python",
   "nbconvert_exporter": "python",
   "pygments_lexer": "ipython3",
   "version": "3.7.6"
  }
 },
 "nbformat": 4,
 "nbformat_minor": 5
}
